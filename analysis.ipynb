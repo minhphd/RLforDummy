{
 "cells": [
  {
   "cell_type": "code",
   "execution_count": 1,
   "metadata": {},
   "outputs": [
    {
     "name": "stderr",
     "output_type": "stream",
     "text": [
      "/Users/phdhoangminh/Documents/Important/important/colby college/my CS journey/interesting python projects/MachineLearning/Reinforcement Learning/lunar_lander_DQN/lunar_lander/Network.py:27: UserWarning: nn.init.xavier_uniform is now deprecated in favor of nn.init.xavier_uniform_.\n",
      "  torch.nn.init.xavier_uniform(m.weight)\n"
     ]
    },
    {
     "data": {
      "text/plain": [
       "<All keys matched successfully>"
      ]
     },
     "execution_count": 1,
     "metadata": {},
     "output_type": "execute_result"
    }
   ],
   "source": [
    "from Network import Net\n",
    "import numpy as np\n",
    "import torch\n",
    "test_model = Net(8, 4, [128,128])\n",
    "\n",
    "test_model.load_state_dict(torch.load('saved_models/lunar_lander/VanillaDQN/tau_10_batch_64_epsdecay_10000.0'))"
   ]
  }
 ],
 "metadata": {
  "kernelspec": {
   "display_name": "lunar_lander_pytorch",
   "language": "python",
   "name": "python3"
  },
  "language_info": {
   "codemirror_mode": {
    "name": "ipython",
    "version": 3
   },
   "file_extension": ".py",
   "mimetype": "text/x-python",
   "name": "python",
   "nbconvert_exporter": "python",
   "pygments_lexer": "ipython3",
   "version": "3.10.13"
  }
 },
 "nbformat": 4,
 "nbformat_minor": 2
}
