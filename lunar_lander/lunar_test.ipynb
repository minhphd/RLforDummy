{
 "cells": [
  {
   "cell_type": "code",
   "execution_count": 15,
   "metadata": {},
   "outputs": [
    {
     "name": "stderr",
     "output_type": "stream",
     "text": [
      "100%|██████████| 10/10 [00:04<00:00,  2.31it/s]"
     ]
    },
    {
     "name": "stdout",
     "output_type": "stream",
     "text": [
      "ay\n"
     ]
    },
    {
     "name": "stderr",
     "output_type": "stream",
     "text": [
      "\n"
     ]
    }
   ],
   "source": [
    "import gymnasium as gym\n",
    "from tqdm import tqdm\n",
    "# Create the Gym environment\n",
    "env = gym.make('CartPole-v1', render_mode='human')\n",
    "\n",
    "# Set the rendering frequency\n",
    "render_frequency = 10  # Render every 5 episodes\n",
    "\n",
    "for episode in tqdm(range(10)):  # Update the range according to your desired number of episodes\n",
    "    observation = env.reset()\n",
    "    \n",
    "    while True:\n",
    "        # Your agent's a    ction selection logic goes here\n",
    "        action = env.action_space.sample()\n",
    "\n",
    "        # Take a step in the environment\n",
    "        observation, reward, done, truncated, _ = env.step(action)\n",
    "\n",
    "        # # Render the environment every n episodes\n",
    "        # if episode % render_frequency == 0:\n",
    "        #     env.render()\n",
    "\n",
    "        if done:\n",
    "            break\n",
    "\n",
    "print('ay')\n",
    "# Close the environment when finished\n",
    "env.close()\n"
   ]
  }
 ],
 "metadata": {
  "kernelspec": {
   "display_name": "lunar_lander_pytorch",
   "language": "python",
   "name": "python3"
  },
  "language_info": {
   "codemirror_mode": {
    "name": "ipython",
    "version": 3
   },
   "file_extension": ".py",
   "mimetype": "text/x-python",
   "name": "python",
   "nbconvert_exporter": "python",
   "pygments_lexer": "ipython3",
   "version": "3.10.13"
  }
 },
 "nbformat": 4,
 "nbformat_minor": 2
}
